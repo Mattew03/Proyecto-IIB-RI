{
 "cells": [
  {
   "cell_type": "markdown",
   "metadata": {},
   "source": [
    "# Modelo de Prediccion de Imagenes\n"
   ]
  },
  {
   "cell_type": "markdown",
   "metadata": {},
   "source": [
    "## Cargar Librerias"
   ]
  },
  {
   "cell_type": "code",
   "execution_count": null,
   "metadata": {},
   "outputs": [],
   "source": [
    "import tensorflow as tf\n",
    "from keras import layers, models\n",
    "import matplotlib.pyplot as plt\n",
    "import numpy as np\n",
    "from tensorflow.keras.applications import VGG16\n",
    "from tensorflow.keras.models import Model\n",
    "from sklearn.neighbors import NearestNeighbors\n",
    "from sklearn.metrics import precision_score, recall_score, f1_score"
   ]
  },
  {
   "cell_type": "markdown",
   "metadata": {},
   "source": [
    "## 2.1 Cargar Datos\n",
    "\n",
    "Cargamos la base de datos caltech-101 desde un directorio local"
   ]
  },
  {
   "cell_type": "code",
   "execution_count": null,
   "metadata": {},
   "outputs": [],
   "source": [
    "# Directorio donde se encuentran las imágenes\n",
    "data_dir = 'D:\\\\U\\\\7. Septimo\\\\RI\\\\ir24a\\\\week14\\\\caltech-101'"
   ]
  },
  {
   "cell_type": "code",
   "execution_count": null,
   "metadata": {},
   "outputs": [],
   "source": [
    "# Cargar las imágenes desde el directorio\n",
    "\n",
    "# Se usa para cargar las imágenes de training\n",
    "train_dataset = tf.keras.preprocessing.image_dataset_from_directory(\n",
    "    data_dir,\n",
    "    validation_split=0.2, \n",
    "    subset=\"training\", \n",
    "    seed=123,\n",
    "    image_size=(224, 224),\n",
    "    batch_size=32\n",
    ")\n",
    "\n",
    "# Se usa para cargar las imágenes de test\n",
    "test_dataset = tf.keras.preprocessing.image_dataset_from_directory(\n",
    "    data_dir,\n",
    "    validation_split=0.2, \n",
    "    subset=\"validation\", \n",
    "    seed=123,\n",
    "    image_size=(224, 224),\n",
    "    batch_size=32\n",
    ")"
   ]
  },
  {
   "cell_type": "markdown",
   "metadata": {},
   "source": [
    "Si el total de imágenes en tu dataset es 𝑋, entonces:\n",
    "- El conjunto de entrenamiento tendrá 0.8𝑋 imágenes.\n",
    "- El conjunto de prueba/validación tendrá 0.2𝑋 imágenes.\n",
    "\n",
    "Por lo que especificamente se tendria: \n",
    "Total de imágenes \n",
    "𝑋 ≈ 7316 + 1828 = 9144\n",
    "- Conjunto de entrenamiento: 0.8 × 9144 ≈ 7316 imágenes.\n",
    "- Conjunto de prueba/validación: 0.2 × 9144 ≈ 1828 imágenes."
   ]
  },
  {
   "cell_type": "markdown",
   "metadata": {},
   "source": [
    "## 2.2 Preprocesamineto de las imagenes\n",
    "\n",
    "Usamos las librerias VGG16 y tensorflow.keras.models"
   ]
  },
  {
   "cell_type": "code",
   "execution_count": null,
   "metadata": {},
   "outputs": [],
   "source": [
    "# Obtener el número de clases\n",
    "class_names = train_dataset.class_names\n",
    "num_classes = len(class_names)"
   ]
  },
  {
   "cell_type": "code",
   "execution_count": null,
   "metadata": {},
   "outputs": [],
   "source": [
    "# Preprocesar las imágenes \n",
    "def preprocess_image(image, label):\n",
    "    image = tf.cast(image, tf.float32) / 255.0\n",
    "    return image, label\n",
    "\n",
    "# Aplicar la función de preprocesamiento a los datasets\n",
    "train_dataset = train_dataset.map(preprocess_image)\n",
    "test_dataset = test_dataset.map(preprocess_image)"
   ]
  },
  {
   "cell_type": "markdown",
   "metadata": {},
   "source": [
    "## 2.3 Extraccion de Caracteristicas\n"
   ]
  },
  {
   "cell_type": "code",
   "execution_count": null,
   "metadata": {},
   "outputs": [],
   "source": [
    "# Cargar el modelo VGG16 con pesos preentrenados\n",
    "base_model = VGG16(weights='imagenet', include_top=False, input_shape=(224, 224, 3))\n",
    "\n",
    "# Crear un nuevo modelo que produzca los mapas de características\n",
    "model = Model(inputs=base_model.input, outputs=base_model.layers[-1].output)"
   ]
  },
  {
   "cell_type": "code",
   "execution_count": null,
   "metadata": {},
   "outputs": [],
   "source": [
    "# Función para extraer características\n",
    "def extract_features(dataset):\n",
    "    features = []\n",
    "    labels = []\n",
    "    for images, lbls in dataset:\n",
    "        feature_maps = model.predict(images)\n",
    "        features.append(feature_maps)\n",
    "        labels.append(lbls.numpy())\n",
    "    features = np.concatenate(features, axis=0)\n",
    "    labels = np.concatenate(labels, axis=0)\n",
    "    return features, labels"
   ]
  },
  {
   "cell_type": "code",
   "execution_count": null,
   "metadata": {},
   "outputs": [],
   "source": [
    "# Extraer características para los conjuntos de datos de entrenamiento y prueba\n",
    "train_features, train_labels = extract_features(train_dataset)\n",
    "test_features, test_labels = extract_features(test_dataset)"
   ]
  },
  {
   "cell_type": "markdown",
   "metadata": {},
   "source": [
    "## 2.4 Indexacion"
   ]
  },
  {
   "cell_type": "code",
   "execution_count": null,
   "metadata": {},
   "outputs": [],
   "source": [
    "# Crear un índice usando k-NN\n",
    "knn = NearestNeighbors(n_neighbors=5, algorithm='kd_tree').fit(train_features.reshape(train_features.shape[0], -1))\n"
   ]
  },
  {
   "cell_type": "markdown",
   "metadata": {},
   "source": [
    "## 2.5 Motor de Búsqueda"
   ]
  },
  {
   "cell_type": "code",
   "execution_count": null,
   "metadata": {},
   "outputs": [],
   "source": [
    "def search_image(query_image, knn_index, k=5):\n",
    "    query_features = model.predict(query_image[np.newaxis, ...])\n",
    "    distances, indices = knn_index.kneighbors(query_features.reshape(1, -1), n_neighbors=k)\n",
    "    return indices[0], distances[0]  # Devolvemos también las distancias\n",
    "\n",
    "# Tomar una imagen de prueba como ejemplo\n",
    "for images, labels in test_dataset.take(1):\n",
    "    query_image = images[11]\n",
    "    query_label = labels[11]  # Almacenar la etiqueta de la imagen de prueba\n",
    "\n",
    "# Mostrar la imagen seleccionada para la prueba\n",
    "plt.imshow(query_image.numpy())\n",
    "plt.title(f'Imagen de prueba: {class_names[query_label]}')\n",
    "plt.show()"
   ]
  },
  {
   "cell_type": "code",
   "execution_count": null,
   "metadata": {},
   "outputs": [],
   "source": [
    "# Realizar la búsqueda\n",
    "indices, distances = search_image(query_image, knn)\n",
    "# Imprimir resultados\n",
    "print(\"Índices de las imágenes más similares:\", indices)\n",
    "print(\"Distancias a las imágenes más similares:\", distances)"
   ]
  },
  {
   "cell_type": "code",
   "execution_count": null,
   "metadata": {},
   "outputs": [],
   "source": [
    "# Mostrar las imágenes más similares\n",
    "for idx, dist in zip(indices, distances):\n",
    "    similar_image = train_dataset.unbatch().skip(idx).take(1)\n",
    "    for image, label in similar_image:\n",
    "        plt.imshow(image.numpy())\n",
    "        plt.title(f'Class: {class_names[label]}, Distance: {dist:.2f}')\n",
    "        plt.show()"
   ]
  },
  {
   "cell_type": "markdown",
   "metadata": {},
   "source": [
    "## 2.7 Evaluación del Sistema"
   ]
  },
  {
   "cell_type": "code",
   "execution_count": null,
   "metadata": {},
   "outputs": [],
   "source": [
    "def evaluate_system(test_features, test_labels, knn_index):\n",
    "    y_true = []\n",
    "    y_pred = []\n",
    "    for i in range(len(test_features)):\n",
    "        query_features = test_features[i]\n",
    "        distances, indices = knn_index.kneighbors(query_features.reshape(1, -1), n_neighbors=1)\n",
    "        y_true.append(test_labels[i])\n",
    "        y_pred.append(train_labels[indices[0][0]])\n",
    "    precision = precision_score(y_true, y_pred, average='macro')\n",
    "    recall = recall_score(y_true, y_pred, average='macro')\n",
    "    f1 = f1_score(y_true, y_pred, average='macro')\n",
    "    return precision, recall, f1\n",
    "\n",
    "precision, recall, f1 = evaluate_system(test_features, test_labels, knn)\n",
    "print(f\"Precision: {precision}, Recall: {recall}, F1-Score: {f1}\")"
   ]
  },
  {
   "cell_type": "code",
   "execution_count": null,
   "metadata": {},
   "outputs": [],
   "source": [
    "#Guardar el modelo utilizado para la extracción de características en un archivo .h5\n",
    "model.save('modelo.h5')"
   ]
  }
 ],
 "metadata": {
  "kernelspec": {
   "display_name": "Python 3",
   "language": "python",
   "name": "python3"
  },
  "language_info": {
   "codemirror_mode": {
    "name": "ipython",
    "version": 3
   },
   "file_extension": ".py",
   "mimetype": "text/x-python",
   "name": "python",
   "nbconvert_exporter": "python",
   "pygments_lexer": "ipython3",
   "version": "3.8.10"
  }
 },
 "nbformat": 4,
 "nbformat_minor": 2
}
